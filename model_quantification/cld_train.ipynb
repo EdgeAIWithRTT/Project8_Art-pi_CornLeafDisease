{
 "cells": [
  {
   "cell_type": "code",
   "execution_count": 8,
   "id": "14dd1767",
   "metadata": {},
   "outputs": [],
   "source": [
    "import os\n",
    "os.environ[\"TF_CPP_MIN_LOG_LEVEL\"] = '2'\n",
    "os.environ['CUDA_VISIBLE_DEVICES'] = '1'\n",
    "\n",
    "import tensorflow as tf\n",
    "from tensorflow import keras\n",
    "from tensorflow.keras import backend\n",
    "from tensorflow.keras import layers\n",
    "import numpy as np \n",
    "from matplotlib import pyplot as plt\n",
    "import cv2"
   ]
  },
  {
   "cell_type": "code",
   "execution_count": 13,
   "id": "74cdd481",
   "metadata": {},
   "outputs": [],
   "source": [
    "img_size = (112, 112)   # 图片尺寸\n",
    "input_shape = (112, 112, 3)  # 模型输入尺寸\n",
    "epochs = 100    # 训练迭代次数\n",
    "batch_size = 128   # 批处理\n",
    "initial_lr = 0.01  # 初始学习率\n",
    "train_dir = r'./cld_train_data/train'\n",
    "test_dir = r'./cld_train_data/test'"
   ]
  },
  {
   "cell_type": "code",
   "execution_count": 3,
   "id": "7ee419ab",
   "metadata": {},
   "outputs": [],
   "source": [
    "# prepocess input\n",
    "def preprocess_input(inputs, std=255., mean=0):\n",
    "    inputs = tf.cast(inputs, tf.float32)\n",
    "    inputs = (inputs - mean) / std  # 归一化\n",
    "    return inputs\n",
    "\n",
    "# load data\n",
    "def load_data(data_dir, img_size):\n",
    "    x = []\n",
    "    y = []\n",
    "    for label in os.listdir(data_dir):\n",
    "        path = os.path.join(data_dir, label)\n",
    "        label = np.uint8(label)\n",
    "        for img_file in os.listdir(path):\n",
    "            img = cv2.imread(os.path.join(path,img_file))\n",
    "            img = cv2.cvtColor(img, cv2.COLOR_BGR2RGB)\n",
    "            img = cv2.resize(img, img_size)\n",
    "            x.append(img)\n",
    "            y.append(label)\n",
    "    y = np.expand_dims(y, axis=-1)\n",
    "    return x, y     "
   ]
  },
  {
   "cell_type": "code",
   "execution_count": 4,
   "id": "072b4ee7",
   "metadata": {},
   "outputs": [],
   "source": [
    "# 生成tensorflow数据通道\n",
    "x_train, y_train = load_data(train_dir, img_size)\n",
    "x_test, y_test = load_data(test_dir, img_size)\n",
    "\n",
    "x_test = preprocess_input(x_test)\n",
    "x_train_ds = tf.data.Dataset.from_tensor_slices(x_train).map(preprocess_input)\n",
    "y_train_ds = tf.data.Dataset.from_tensor_slices(y_train)\n",
    "x_y_train_ds = tf.data.Dataset.zip((x_train_ds,y_train_ds))\n",
    "x_y_train_ds = x_y_train_ds.shuffle(6500).batch(batch_size)"
   ]
  },
  {
   "cell_type": "code",
   "execution_count": 52,
   "id": "50b22873",
   "metadata": {},
   "outputs": [],
   "source": [
    "# 使用深度可分离卷积块，创建模型\n",
    "def model_dep(input_shape, dropout_rate):\n",
    "    input = keras.Input(shape=input_shape)\n",
    "    x = layers.Conv2D(8, (3, 3), strides=1, padding='same')(input)\n",
    "    x = layers.BatchNormalization()(x)\n",
    "    x = layers.ReLU()(x)\n",
    "    x = layers.Conv2D(16, (1, 1), strides=2, padding='same')(x)\n",
    "    x = layers.BatchNormalization()(x)\n",
    "    x = layers.ReLU()(x)\n",
    "    x = layers.DepthwiseConv2D(kernel_size=(3, 3), strides=1, padding='same')(x)\n",
    "    x = layers.BatchNormalization()(x)\n",
    "    x = layers.ReLU()(x)\n",
    "    x = layers.Conv2D(64, (3, 3), strides=1, padding='same')(x)\n",
    "    x = layers.BatchNormalization()(x)\n",
    "    x = layers.ReLU()(x)\n",
    "    x = layers.Conv2D(64, (1, 1), strides=2, padding='same')(x)\n",
    "    x = layers.BatchNormalization()(x)\n",
    "    x = layers.ReLU()(x)\n",
    "    x = layers.DepthwiseConv2D(kernel_size=(3, 3), strides=1, padding='same')(x)\n",
    "    x = layers.BatchNormalization()(x)\n",
    "    x = layers.ReLU()(x)\n",
    "    x = layers.Conv2D(64, (1, 1), strides=1, padding='same')(x)\n",
    "    x = layers.BatchNormalization()(x)\n",
    "    x = layers.ReLU()(x)\n",
    "    x = layers.Conv2D(32, (1, 1), strides=1, padding='same')(x)\n",
    "    x = layers.BatchNormalization()(x)\n",
    "    x = layers.ReLU()(x)\n",
    "    x = layers.DepthwiseConv2D(kernel_size=(3, 3), strides=1, padding='same')(x)\n",
    "    x = layers.BatchNormalization()(x)\n",
    "    x = layers.ReLU()(x)\n",
    "    x = layers.Conv2D(64, (1, 1), strides=1, padding='same')(x)\n",
    "    x = layers.BatchNormalization()(x)\n",
    "    x = layers.ReLU()(x)\n",
    "    x = layers.Conv2D(32, (1, 1), strides=2, padding='same')(x)\n",
    "    x = layers.BatchNormalization()(x)\n",
    "    x = layers.ReLU()(x)\n",
    "    x = layers.DepthwiseConv2D(kernel_size=(3, 3), strides=1, padding='same')(x)\n",
    "    x = layers.BatchNormalization()(x)\n",
    "    x = layers.ReLU()(x)\n",
    "    x = layers.Conv2D(128, (1, 1), strides=2, padding='same')(x)\n",
    "    x = layers.BatchNormalization()(x)\n",
    "    x = layers.ReLU()(x)\n",
    "    x = layers.GlobalAveragePooling2D()(x)\n",
    "    x = layers.Dropout(dropout_rate)(x)\n",
    "    x = layers.Dense(4)(x)\n",
    "    x = layers.Softmax()(x)\n",
    "    \n",
    "    return keras.Model(inputs=input, outputs=x)"
   ]
  },
  {
   "cell_type": "code",
   "execution_count": 53,
   "id": "5ad13d93",
   "metadata": {
    "scrolled": false
   },
   "outputs": [
    {
     "name": "stdout",
     "output_type": "stream",
     "text": [
      "Epoch 1/100\n",
      "45/45 [==============================] - 5s 85ms/step - loss: 0.3700 - accuracy: 0.8352 - val_loss: 1.5636 - val_accuracy: 0.2500\n",
      "Epoch 2/100\n",
      "45/45 [==============================] - 4s 75ms/step - loss: 0.2437 - accuracy: 0.8938 - val_loss: 1.9581 - val_accuracy: 0.2500\n",
      "Epoch 3/100\n",
      "45/45 [==============================] - 4s 76ms/step - loss: 0.2383 - accuracy: 0.8945 - val_loss: 2.3005 - val_accuracy: 0.2500\n",
      "Epoch 4/100\n",
      "45/45 [==============================] - 4s 76ms/step - loss: 0.2323 - accuracy: 0.9013 - val_loss: 2.5508 - val_accuracy: 0.2500\n",
      "Epoch 5/100\n",
      "45/45 [==============================] - 4s 74ms/step - loss: 0.2380 - accuracy: 0.8959 - val_loss: 2.7021 - val_accuracy: 0.2500\n",
      "Epoch 6/100\n",
      "45/45 [==============================] - 4s 75ms/step - loss: 0.2328 - accuracy: 0.8994 - val_loss: 2.7599 - val_accuracy: 0.2500\n",
      "Epoch 7/100\n",
      "45/45 [==============================] - 4s 75ms/step - loss: 0.2354 - accuracy: 0.8974 - val_loss: 2.7329 - val_accuracy: 0.2500\n",
      "Epoch 8/100\n",
      "45/45 [==============================] - 4s 75ms/step - loss: 0.2393 - accuracy: 0.8974 - val_loss: 2.6264 - val_accuracy: 0.4000\n",
      "Epoch 9/100\n",
      "45/45 [==============================] - 4s 75ms/step - loss: 0.2351 - accuracy: 0.8969 - val_loss: 2.4609 - val_accuracy: 0.4500\n",
      "Epoch 10/100\n",
      "45/45 [==============================] - 4s 74ms/step - loss: 0.2353 - accuracy: 0.8971 - val_loss: 2.1381 - val_accuracy: 0.5000\n",
      "Epoch 11/100\n",
      "45/45 [==============================] - 4s 75ms/step - loss: 0.2348 - accuracy: 0.8962 - val_loss: 1.5330 - val_accuracy: 0.5000\n",
      "Epoch 12/100\n",
      "45/45 [==============================] - 4s 75ms/step - loss: 0.2360 - accuracy: 0.8980 - val_loss: 0.9555 - val_accuracy: 0.7000\n",
      "Epoch 13/100\n",
      "45/45 [==============================] - 4s 75ms/step - loss: 0.2345 - accuracy: 0.9002 - val_loss: 0.6878 - val_accuracy: 0.7000\n",
      "Epoch 14/100\n",
      "45/45 [==============================] - 4s 76ms/step - loss: 0.2323 - accuracy: 0.9006 - val_loss: 0.5197 - val_accuracy: 0.7500\n",
      "Epoch 15/100\n",
      "45/45 [==============================] - 3s 73ms/step - loss: 0.2351 - accuracy: 0.9006 - val_loss: 0.4153 - val_accuracy: 0.8500\n",
      "Epoch 16/100\n",
      "45/45 [==============================] - 3s 73ms/step - loss: 0.2372 - accuracy: 0.8978 - val_loss: 0.3543 - val_accuracy: 0.8500\n",
      "Epoch 17/100\n",
      "45/45 [==============================] - 4s 75ms/step - loss: 0.2368 - accuracy: 0.8987 - val_loss: 0.3191 - val_accuracy: 0.8500\n",
      "Epoch 18/100\n",
      "45/45 [==============================] - 4s 76ms/step - loss: 0.2351 - accuracy: 0.8997 - val_loss: 0.2996 - val_accuracy: 0.8500\n",
      "Epoch 19/100\n",
      "45/45 [==============================] - 4s 76ms/step - loss: 0.2387 - accuracy: 0.8976 - val_loss: 0.2884 - val_accuracy: 0.9000\n",
      "Epoch 20/100\n",
      "45/45 [==============================] - 4s 76ms/step - loss: 0.2372 - accuracy: 0.8969 - val_loss: 0.2816 - val_accuracy: 0.9000\n",
      "Epoch 21/100\n",
      "45/45 [==============================] - 4s 75ms/step - loss: 0.2378 - accuracy: 0.8948 - val_loss: 0.2777 - val_accuracy: 0.9000\n",
      "Epoch 22/100\n",
      "45/45 [==============================] - 4s 74ms/step - loss: 0.2379 - accuracy: 0.8971 - val_loss: 0.2753 - val_accuracy: 0.9000\n",
      "Epoch 23/100\n",
      "45/45 [==============================] - 4s 74ms/step - loss: 0.2336 - accuracy: 0.8976 - val_loss: 0.2738 - val_accuracy: 0.9000\n",
      "Epoch 24/100\n",
      "45/45 [==============================] - 4s 77ms/step - loss: 0.2366 - accuracy: 0.8997 - val_loss: 0.2730 - val_accuracy: 0.9000\n",
      "Epoch 25/100\n",
      "45/45 [==============================] - 4s 76ms/step - loss: 0.2328 - accuracy: 0.9021 - val_loss: 0.2726 - val_accuracy: 0.9000\n",
      "Epoch 26/100\n",
      "45/45 [==============================] - 4s 76ms/step - loss: 0.2382 - accuracy: 0.8981 - val_loss: 0.2721 - val_accuracy: 0.9000\n",
      "Epoch 27/100\n",
      "45/45 [==============================] - 4s 76ms/step - loss: 0.2355 - accuracy: 0.8969 - val_loss: 0.2717 - val_accuracy: 0.9000\n",
      "Epoch 28/100\n",
      "45/45 [==============================] - 4s 76ms/step - loss: 0.2405 - accuracy: 0.8938 - val_loss: 0.2714 - val_accuracy: 0.9000\n",
      "Epoch 29/100\n",
      "45/45 [==============================] - 4s 73ms/step - loss: 0.2343 - accuracy: 0.8966 - val_loss: 0.2715 - val_accuracy: 0.9000\n",
      "Epoch 00029: early stopping\n"
     ]
    }
   ],
   "source": [
    "# learning rate 随着 epoch 指数递减\n",
    "lr_schedules = tf.keras.optimizers.schedules.ExponentialDecay(\n",
    "        initial_learning_rate=initial_lr,\n",
    "        decay_steps=10,\n",
    "        staircase=True,\n",
    "        decay_rate=0.5)\n",
    "\n",
    "# 训练模型\n",
    "model = model_dep(input_shape, dropout_rate=0.3)\n",
    "optimizer = tf.keras.optimizers.Adam(learning_rate=lr_schedules)\n",
    "earlystop = keras.callbacks.EarlyStopping(monitor='val_accuracy', patience=10,verbose=1)\n",
    "model.compile(optimizer=optimizer, loss='sparse_categorical_crossentropy', metrics=['accuracy'])\n",
    "history = model.fit(x_y_train_ds, validation_data=(x_test, y_test), callbacks=[earlystop], epochs=epochs)"
   ]
  },
  {
   "cell_type": "code",
   "execution_count": 35,
   "id": "b5c9f117",
   "metadata": {},
   "outputs": [
    {
     "data": {
      "image/png": "[encoded data removed]",
      "text/plain": [
       "<Figure size 432x288 with 1 Axes>"
      ]
     },
     "metadata": {
      "needs_background": "light"
     },
     "output_type": "display_data"
    }
   ],
   "source": [
    "plt.plot(history.history['val_accuracy'],label='val_acc')\n",
    "plt.legend()\n",
    "plt.xlabel('Epochs')\n",
    "plt.ylabel('Acc')\n",
    "plt.show()"
   ]
  },
  {
   "cell_type": "code",
   "execution_count": 39,
   "id": "6465cb79",
   "metadata": {},
   "outputs": [],
   "source": [
    "model.save('checkpoint/cld_float32.h5')"
   ]
  },
  {
   "cell_type": "code",
   "execution_count": null,
   "id": "1492e55b",
   "metadata": {},
   "outputs": [],
   "source": []
  }
 ],
 "metadata": {
  "kernelspec": {
   "display_name": "Python 3",
   "language": "python",
   "name": "python3"
  },
  "language_info": {
   "codemirror_mode": {
    "name": "ipython",
    "version": 3
   },
   "file_extension": ".py",
   "mimetype": "text/x-python",
   "name": "python",
   "nbconvert_exporter": "python",
   "pygments_lexer": "ipython3",
   "version": "3.6.9"
  }
 },
 "nbformat": 4,
 "nbformat_minor": 5
}
